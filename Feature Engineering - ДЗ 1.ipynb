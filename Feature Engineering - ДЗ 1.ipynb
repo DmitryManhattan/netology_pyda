{
 "cells": [
  {
   "cell_type": "code",
   "execution_count": 1,
   "metadata": {},
   "outputs": [],
   "source": [
    "import numpy as np\n",
    "import pandas as pd\n",
    "\n",
    "from sklearn.linear_model import LinearRegression"
   ]
  },
  {
   "cell_type": "markdown",
   "metadata": {},
   "source": [
    "Сегодня проверим какая есть взаимосвязь между гипотетическим количеством кожаных курток у мотоциклиста в шкафу, погодными условиями, водительсим стажем, объемом двигателя мотоцикла и вероятностью аварии"
   ]
  },
  {
   "cell_type": "code",
   "execution_count": 10,
   "metadata": {},
   "outputs": [
    {
     "data": {
      "text/html": [
       "<div>\n",
       "<style scoped>\n",
       "    .dataframe tbody tr th:only-of-type {\n",
       "        vertical-align: middle;\n",
       "    }\n",
       "\n",
       "    .dataframe tbody tr th {\n",
       "        vertical-align: top;\n",
       "    }\n",
       "\n",
       "    .dataframe thead th {\n",
       "        text-align: right;\n",
       "    }\n",
       "</style>\n",
       "<table border=\"1\" class=\"dataframe\">\n",
       "  <thead>\n",
       "    <tr style=\"text-align: right;\">\n",
       "      <th></th>\n",
       "      <th>leather_jackects</th>\n",
       "      <th>weather_conditions</th>\n",
       "      <th>years_of_experience</th>\n",
       "      <th>motorcycle_engine</th>\n",
       "      <th>accident_chance</th>\n",
       "    </tr>\n",
       "  </thead>\n",
       "  <tbody>\n",
       "    <tr>\n",
       "      <td>0</td>\n",
       "      <td>3</td>\n",
       "      <td>70</td>\n",
       "      <td>6</td>\n",
       "      <td>819</td>\n",
       "      <td>65.000000</td>\n",
       "    </tr>\n",
       "    <tr>\n",
       "      <td>1</td>\n",
       "      <td>3</td>\n",
       "      <td>90</td>\n",
       "      <td>11</td>\n",
       "      <td>312</td>\n",
       "      <td>10.505051</td>\n",
       "    </tr>\n",
       "    <tr>\n",
       "      <td>2</td>\n",
       "      <td>3</td>\n",
       "      <td>45</td>\n",
       "      <td>1</td>\n",
       "      <td>594</td>\n",
       "      <td>440.000000</td>\n",
       "    </tr>\n",
       "    <tr>\n",
       "      <td>3</td>\n",
       "      <td>4</td>\n",
       "      <td>54</td>\n",
       "      <td>5</td>\n",
       "      <td>357</td>\n",
       "      <td>33.055556</td>\n",
       "    </tr>\n",
       "    <tr>\n",
       "      <td>4</td>\n",
       "      <td>3</td>\n",
       "      <td>63</td>\n",
       "      <td>13</td>\n",
       "      <td>882</td>\n",
       "      <td>35.897436</td>\n",
       "    </tr>\n",
       "  </tbody>\n",
       "</table>\n",
       "</div>"
      ],
      "text/plain": [
       "   leather_jackects  weather_conditions  years_of_experience  \\\n",
       "0                 3                  70                    6   \n",
       "1                 3                  90                   11   \n",
       "2                 3                  45                    1   \n",
       "3                 4                  54                    5   \n",
       "4                 3                  63                   13   \n",
       "\n",
       "   motorcycle_engine  accident_chance  \n",
       "0                819        65.000000  \n",
       "1                312        10.505051  \n",
       "2                594       440.000000  \n",
       "3                357        33.055556  \n",
       "4                882        35.897436  "
      ]
     },
     "execution_count": 10,
     "metadata": {},
     "output_type": "execute_result"
    }
   ],
   "source": [
    "# Создаём сэмпл\n",
    "n_samples = 500\n",
    "\n",
    "leather_jackects = np.random.choice(3, n_samples) + 2\n",
    "weather_conditions = np.random.randint(1,100,n_samples)\n",
    "years_of_experience = np.random.choice(15, n_samples) + 1\n",
    "motorcycle_engine = np.random.randint(200,1000,n_samples) + 50\n",
    "\n",
    "accident_chance = (motorcycle_engine / (weather_conditions * years_of_experience * leather_jackects)) * 100\n",
    "\n",
    "data = pd.DataFrame({'leather_jackects': leather_jackects, 'weather_conditions': weather_conditions, 'years_of_experience': years_of_experience, 'motorcycle_engine': motorcycle_engine, 'accident_chance': accident_chance})\n",
    "data.head(5)"
   ]
  },
  {
   "cell_type": "code",
   "execution_count": 11,
   "metadata": {},
   "outputs": [
    {
     "name": "stdout",
     "output_type": "stream",
     "text": [
      "Weights: [-77.77260864  -9.46837955 -47.84652307   0.17923824]\n",
      "Bias: 1268.395630449845\n",
      "Error: 305.5971142142501\n"
     ]
    }
   ],
   "source": [
    "from sklearn.metrics import mean_absolute_error\n",
    "\n",
    "X = data[['leather_jackects', 'weather_conditions', 'years_of_experience', 'motorcycle_engine']]\n",
    "y = data['accident_chance']\n",
    "reg = LinearRegression().fit(X, y)\n",
    "print('Weights: {}'.format(reg.coef_))\n",
    "print('Bias: {}'.format(reg.intercept_))\n",
    "\n",
    "pred_values = reg.predict(data[['leather_jackects','weather_conditions', 'years_of_experience', 'motorcycle_engine']])\n",
    "print('Error: {}'.format(mean_absolute_error(pred_values, y)))"
   ]
  },
  {
   "cell_type": "markdown",
   "metadata": {},
   "source": [
    "Как ни странно, но количество кожаных курток у водителям якобы имеет самый высокий вес) "
   ]
  },
  {
   "cell_type": "code",
   "execution_count": 12,
   "metadata": {},
   "outputs": [
    {
     "name": "stdout",
     "output_type": "stream",
     "text": [
      "Weights: [ -9.52706205 -48.64818677   0.16306764]\n",
      "Bias: 1056.5532419781603\n",
      "Error: 306.22151295043534\n"
     ]
    }
   ],
   "source": [
    "from sklearn.metrics import mean_absolute_error\n",
    "\n",
    "X = data[['weather_conditions', 'years_of_experience', 'motorcycle_engine']]\n",
    "y = data['accident_chance']\n",
    "reg = LinearRegression().fit(X, y)\n",
    "print('Weights: {}'.format(reg.coef_))\n",
    "print('Bias: {}'.format(reg.intercept_))\n",
    "\n",
    "pred_values = reg.predict(data[['weather_conditions', 'years_of_experience', 'motorcycle_engine']])\n",
    "print('Error: {}'.format(mean_absolute_error(pred_values, y)))"
   ]
  },
  {
   "cell_type": "code",
   "execution_count": 15,
   "metadata": {},
   "outputs": [
    {
     "data": {
      "text/html": [
       "<div>\n",
       "<style scoped>\n",
       "    .dataframe tbody tr th:only-of-type {\n",
       "        vertical-align: middle;\n",
       "    }\n",
       "\n",
       "    .dataframe tbody tr th {\n",
       "        vertical-align: top;\n",
       "    }\n",
       "\n",
       "    .dataframe thead th {\n",
       "        text-align: right;\n",
       "    }\n",
       "</style>\n",
       "<table border=\"1\" class=\"dataframe\">\n",
       "  <thead>\n",
       "    <tr style=\"text-align: right;\">\n",
       "      <th></th>\n",
       "      <th>leather_jackects</th>\n",
       "      <th>weather_conditions</th>\n",
       "      <th>years_of_experience</th>\n",
       "      <th>motorcycle_engine</th>\n",
       "      <th>accident_chance</th>\n",
       "      <th>mult</th>\n",
       "    </tr>\n",
       "  </thead>\n",
       "  <tbody>\n",
       "    <tr>\n",
       "      <td>0</td>\n",
       "      <td>3</td>\n",
       "      <td>70</td>\n",
       "      <td>6</td>\n",
       "      <td>819</td>\n",
       "      <td>65.000000</td>\n",
       "      <td>1.950000</td>\n",
       "    </tr>\n",
       "    <tr>\n",
       "      <td>1</td>\n",
       "      <td>3</td>\n",
       "      <td>90</td>\n",
       "      <td>11</td>\n",
       "      <td>312</td>\n",
       "      <td>10.505051</td>\n",
       "      <td>0.315152</td>\n",
       "    </tr>\n",
       "    <tr>\n",
       "      <td>2</td>\n",
       "      <td>3</td>\n",
       "      <td>45</td>\n",
       "      <td>1</td>\n",
       "      <td>594</td>\n",
       "      <td>440.000000</td>\n",
       "      <td>13.200000</td>\n",
       "    </tr>\n",
       "    <tr>\n",
       "      <td>3</td>\n",
       "      <td>4</td>\n",
       "      <td>54</td>\n",
       "      <td>5</td>\n",
       "      <td>357</td>\n",
       "      <td>33.055556</td>\n",
       "      <td>1.322222</td>\n",
       "    </tr>\n",
       "    <tr>\n",
       "      <td>4</td>\n",
       "      <td>3</td>\n",
       "      <td>63</td>\n",
       "      <td>13</td>\n",
       "      <td>882</td>\n",
       "      <td>35.897436</td>\n",
       "      <td>1.076923</td>\n",
       "    </tr>\n",
       "  </tbody>\n",
       "</table>\n",
       "</div>"
      ],
      "text/plain": [
       "   leather_jackects  weather_conditions  years_of_experience  \\\n",
       "0                 3                  70                    6   \n",
       "1                 3                  90                   11   \n",
       "2                 3                  45                    1   \n",
       "3                 4                  54                    5   \n",
       "4                 3                  63                   13   \n",
       "\n",
       "   motorcycle_engine  accident_chance       mult  \n",
       "0                819        65.000000   1.950000  \n",
       "1                312        10.505051   0.315152  \n",
       "2                594       440.000000  13.200000  \n",
       "3                357        33.055556   1.322222  \n",
       "4                882        35.897436   1.076923  "
      ]
     },
     "execution_count": 15,
     "metadata": {},
     "output_type": "execute_result"
    }
   ],
   "source": [
    "# Создаем новый признак\n",
    "data['mult'] = data['motorcycle_engine'] / ( data['years_of_experience'] * data['weather_conditions'])\n",
    "data.head(5)"
   ]
  },
  {
   "cell_type": "code",
   "execution_count": 16,
   "metadata": {},
   "outputs": [
    {
     "name": "stdout",
     "output_type": "stream",
     "text": [
      "Weights: [36.78738456]\n",
      "Bias: -0.46857610727138876\n",
      "Error: 72.90609028081272\n"
     ]
    }
   ],
   "source": [
    "X = data[['mult']]\n",
    "y = data['accident_chance']\n",
    "reg = LinearRegression().fit(X, y)\n",
    "print('Weights: {}'.format(reg.coef_))\n",
    "print('Bias: {}'.format(reg.intercept_))\n",
    "\n",
    "pred_values = reg.predict(data[['mult']])\n",
    "print('Error: {}'.format(mean_absolute_error(pred_values, y)))"
   ]
  },
  {
   "cell_type": "code",
   "execution_count": 17,
   "metadata": {
    "scrolled": true
   },
   "outputs": [
    {
     "data": {
      "text/html": [
       "<div>\n",
       "<style scoped>\n",
       "    .dataframe tbody tr th:only-of-type {\n",
       "        vertical-align: middle;\n",
       "    }\n",
       "\n",
       "    .dataframe tbody tr th {\n",
       "        vertical-align: top;\n",
       "    }\n",
       "\n",
       "    .dataframe thead th {\n",
       "        text-align: right;\n",
       "    }\n",
       "</style>\n",
       "<table border=\"1\" class=\"dataframe\">\n",
       "  <thead>\n",
       "    <tr style=\"text-align: right;\">\n",
       "      <th></th>\n",
       "      <th>leather_jackects</th>\n",
       "      <th>weather_conditions</th>\n",
       "      <th>years_of_experience</th>\n",
       "      <th>motorcycle_engine</th>\n",
       "      <th>accident_chance</th>\n",
       "      <th>mult</th>\n",
       "      <th>mult2</th>\n",
       "    </tr>\n",
       "  </thead>\n",
       "  <tbody>\n",
       "    <tr>\n",
       "      <td>0</td>\n",
       "      <td>3</td>\n",
       "      <td>70</td>\n",
       "      <td>6</td>\n",
       "      <td>819</td>\n",
       "      <td>65.000000</td>\n",
       "      <td>1.950000</td>\n",
       "      <td>136.500000</td>\n",
       "    </tr>\n",
       "    <tr>\n",
       "      <td>1</td>\n",
       "      <td>3</td>\n",
       "      <td>90</td>\n",
       "      <td>11</td>\n",
       "      <td>312</td>\n",
       "      <td>10.505051</td>\n",
       "      <td>0.315152</td>\n",
       "      <td>28.363636</td>\n",
       "    </tr>\n",
       "    <tr>\n",
       "      <td>2</td>\n",
       "      <td>3</td>\n",
       "      <td>45</td>\n",
       "      <td>1</td>\n",
       "      <td>594</td>\n",
       "      <td>440.000000</td>\n",
       "      <td>13.200000</td>\n",
       "      <td>594.000000</td>\n",
       "    </tr>\n",
       "    <tr>\n",
       "      <td>3</td>\n",
       "      <td>4</td>\n",
       "      <td>54</td>\n",
       "      <td>5</td>\n",
       "      <td>357</td>\n",
       "      <td>33.055556</td>\n",
       "      <td>1.322222</td>\n",
       "      <td>71.400000</td>\n",
       "    </tr>\n",
       "    <tr>\n",
       "      <td>4</td>\n",
       "      <td>3</td>\n",
       "      <td>63</td>\n",
       "      <td>13</td>\n",
       "      <td>882</td>\n",
       "      <td>35.897436</td>\n",
       "      <td>1.076923</td>\n",
       "      <td>67.846154</td>\n",
       "    </tr>\n",
       "  </tbody>\n",
       "</table>\n",
       "</div>"
      ],
      "text/plain": [
       "   leather_jackects  weather_conditions  years_of_experience  \\\n",
       "0                 3                  70                    6   \n",
       "1                 3                  90                   11   \n",
       "2                 3                  45                    1   \n",
       "3                 4                  54                    5   \n",
       "4                 3                  63                   13   \n",
       "\n",
       "   motorcycle_engine  accident_chance       mult       mult2  \n",
       "0                819        65.000000   1.950000  136.500000  \n",
       "1                312        10.505051   0.315152   28.363636  \n",
       "2                594       440.000000  13.200000  594.000000  \n",
       "3                357        33.055556   1.322222   71.400000  \n",
       "4                882        35.897436   1.076923   67.846154  "
      ]
     },
     "execution_count": 17,
     "metadata": {},
     "output_type": "execute_result"
    }
   ],
   "source": [
    "# Создаем новый признак - что если оставить только 2 фактора?\n",
    "data['mult2'] = data['motorcycle_engine'] / ( data['years_of_experience'])\n",
    "data.head(5)"
   ]
  },
  {
   "cell_type": "code",
   "execution_count": 18,
   "metadata": {},
   "outputs": [
    {
     "name": "stdout",
     "output_type": "stream",
     "text": [
      "Weights: [2.37211077]\n",
      "Bias: -64.9709182480178\n",
      "Error: 302.0190344679478\n"
     ]
    }
   ],
   "source": [
    "X = data[['mult2']]\n",
    "y = data['accident_chance']\n",
    "reg = LinearRegression().fit(X, y)\n",
    "print('Weights: {}'.format(reg.coef_))\n",
    "print('Bias: {}'.format(reg.intercept_))\n",
    "\n",
    "pred_values = reg.predict(data[['mult']])\n",
    "print('Error: {}'.format(mean_absolute_error(pred_values, y)))"
   ]
  },
  {
   "cell_type": "code",
   "execution_count": null,
   "metadata": {},
   "outputs": [],
   "source": []
  }
 ],
 "metadata": {
  "kernelspec": {
   "display_name": "Python 3",
   "language": "python",
   "name": "python3"
  },
  "language_info": {
   "codemirror_mode": {
    "name": "ipython",
    "version": 3
   },
   "file_extension": ".py",
   "mimetype": "text/x-python",
   "name": "python",
   "nbconvert_exporter": "python",
   "pygments_lexer": "ipython3",
   "version": "3.7.4"
  }
 },
 "nbformat": 4,
 "nbformat_minor": 2
}
